{
  "nbformat": 4,
  "nbformat_minor": 0,
  "metadata": {
    "colab": {
      "name": "question_2.ipynb",
      "provenance": []
    },
    "kernelspec": {
      "name": "python3",
      "display_name": "Python 3"
    },
    "accelerator": "GPU"
  },
  "cells": [
    {
      "cell_type": "code",
      "metadata": {
        "id": "N-U3PrKwavwZ"
      },
      "source": [
        "from google.colab import drive"
      ],
      "execution_count": 46,
      "outputs": []
    },
    {
      "cell_type": "code",
      "metadata": {
        "id": "1PkMdP53a7pM",
        "outputId": "ac2d8047-cf06-4992-f431-05b4a318711e",
        "colab": {
          "base_uri": "https://localhost:8080/",
          "height": 34
        }
      },
      "source": [
        "drive.mount('/content/gdrive')"
      ],
      "execution_count": 47,
      "outputs": [
        {
          "output_type": "stream",
          "text": [
            "Mounted at /content/gdrive\n"
          ],
          "name": "stdout"
        }
      ]
    },
    {
      "cell_type": "code",
      "metadata": {
        "id": "-lSEyJGVa7r9"
      },
      "source": [
        "import os,shutil"
      ],
      "execution_count": 48,
      "outputs": []
    },
    {
      "cell_type": "code",
      "metadata": {
        "id": "AkACSLMLa7u6"
      },
      "source": [
        "original_data='/content/gdrive/My Drive/Data for DL/Data for DL'"
      ],
      "execution_count": 49,
      "outputs": []
    },
    {
      "cell_type": "code",
      "metadata": {
        "id": "01Ilp5SSa70k"
      },
      "source": [
        "base_dir='/content/mini_pro'"
      ],
      "execution_count": 50,
      "outputs": []
    },
    {
      "cell_type": "code",
      "metadata": {
        "id": "ObNM4k_Fa72_"
      },
      "source": [
        "os.mkdir(base_dir)"
      ],
      "execution_count": 18,
      "outputs": []
    },
    {
      "cell_type": "code",
      "metadata": {
        "id": "Xf_qnWsea75S"
      },
      "source": [
        "train_dir=os.path.join(base_dir,'train')"
      ],
      "execution_count": 51,
      "outputs": []
    },
    {
      "cell_type": "code",
      "metadata": {
        "id": "99P76dXma77z"
      },
      "source": [
        "os.mkdir(train_dir)"
      ],
      "execution_count": 19,
      "outputs": []
    },
    {
      "cell_type": "code",
      "metadata": {
        "id": "V47teaDRa7-X"
      },
      "source": [
        "validation_dir=os.path.join(base_dir,'validation')"
      ],
      "execution_count": 52,
      "outputs": []
    },
    {
      "cell_type": "code",
      "metadata": {
        "id": "Q0EBFu_Pa8Ax"
      },
      "source": [
        "os.mkdir(validation_dir)"
      ],
      "execution_count": 20,
      "outputs": []
    },
    {
      "cell_type": "code",
      "metadata": {
        "id": "_0rpvV9_a8DS"
      },
      "source": [
        "test_dir=os.path.join(base_dir,'test')"
      ],
      "execution_count": 53,
      "outputs": []
    },
    {
      "cell_type": "code",
      "metadata": {
        "id": "eVFLUMEna8Fj"
      },
      "source": [
        "os.mkdir(test_dir)"
      ],
      "execution_count": 21,
      "outputs": []
    },
    {
      "cell_type": "code",
      "metadata": {
        "id": "wLL4hRwP3Mog"
      },
      "source": [
        ""
      ],
      "execution_count": null,
      "outputs": []
    },
    {
      "cell_type": "code",
      "metadata": {
        "id": "C5ejrTQta8IP"
      },
      "source": [
        "train_drone_dir=os.path.join(train_dir,'drone')\n",
        "os.mkdir(train_drone_dir)"
      ],
      "execution_count": 22,
      "outputs": []
    },
    {
      "cell_type": "code",
      "metadata": {
        "id": "kFG_DvZQa8Kz"
      },
      "source": [
        "train_fighter_jet_dir=os.path.join(train_dir,'fighter_jet')\n",
        "os.mkdir(train_fighter_jet_dir)"
      ],
      "execution_count": 23,
      "outputs": []
    },
    {
      "cell_type": "code",
      "metadata": {
        "id": "UIoIbUBDa8Nk"
      },
      "source": [
        "train_helicopter_dir=os.path.join(train_dir,'helicopter')\n",
        "os.mkdir(train_helicopter_dir)"
      ],
      "execution_count": 24,
      "outputs": []
    },
    {
      "cell_type": "code",
      "metadata": {
        "id": "CoY8MavEa8TD"
      },
      "source": [
        "train_missile_dir=os.path.join(train_dir,'missile')\n",
        "os.mkdir(train_missile_dir)"
      ],
      "execution_count": 25,
      "outputs": []
    },
    {
      "cell_type": "code",
      "metadata": {
        "id": "j04GdMHGa8Vz"
      },
      "source": [
        "train_passenger_plane_dir=os.path.join(train_dir,'passenger_plane')\n",
        "os.mkdir(train_passenger_plane_dir)"
      ],
      "execution_count": 26,
      "outputs": []
    },
    {
      "cell_type": "code",
      "metadata": {
        "id": "CjcX7C5Ra8YW"
      },
      "source": [
        "train_rocket_dir=os.path.join(train_dir,'rocket')\n",
        "os.mkdir(train_rocket_dir)"
      ],
      "execution_count": 27,
      "outputs": []
    },
    {
      "cell_type": "code",
      "metadata": {
        "id": "3-hJGEL-a8cL"
      },
      "source": [
        "validation_drone_dir=os.path.join(validation_dir,'drone')\n",
        "os.mkdir(validation_drone_dir)"
      ],
      "execution_count": 28,
      "outputs": []
    },
    {
      "cell_type": "code",
      "metadata": {
        "id": "ELtnuTaMbttW"
      },
      "source": [
        "validation_fighter_jet_dir=os.path.join(validation_dir,'fighter_jet')\n",
        "os.mkdir(validation_fighter_jet_dir)"
      ],
      "execution_count": 29,
      "outputs": []
    },
    {
      "cell_type": "code",
      "metadata": {
        "id": "y4RSTE7-btwB"
      },
      "source": [
        "validation_helicopter_dir=os.path.join(validation_dir,'helicopter')\n",
        "os.mkdir(validation_helicopter_dir)"
      ],
      "execution_count": 30,
      "outputs": []
    },
    {
      "cell_type": "code",
      "metadata": {
        "id": "XrDn2mLbbtzK"
      },
      "source": [
        "validation_missile_dir=os.path.join(validation_dir,'missile')\n",
        "os.mkdir(validation_missile_dir)"
      ],
      "execution_count": 31,
      "outputs": []
    },
    {
      "cell_type": "code",
      "metadata": {
        "id": "Xc-76YQVbt19"
      },
      "source": [
        "validation_passenger_plane_dir=os.path.join(validation_dir,'passenger_plane')\n",
        "os.mkdir(validation_passenger_plane_dir)"
      ],
      "execution_count": 32,
      "outputs": []
    },
    {
      "cell_type": "code",
      "metadata": {
        "id": "E_UmA3XLbt47"
      },
      "source": [
        "validation_rocket_dir=os.path.join(validation_dir,'rocket')\n",
        "os.mkdir(validation_rocket_dir)"
      ],
      "execution_count": 33,
      "outputs": []
    },
    {
      "cell_type": "code",
      "metadata": {
        "id": "NwbpWb6nbt76"
      },
      "source": [
        "test_drone_dir=os.path.join(test_dir,'drone')\n",
        "os.mkdir(test_drone_dir)"
      ],
      "execution_count": 34,
      "outputs": []
    },
    {
      "cell_type": "code",
      "metadata": {
        "id": "GJmydmZHbt_U"
      },
      "source": [
        "test_fighter_jet_dir=os.path.join(test_dir,'fighter_jet')\n",
        "os.mkdir(test_fighter_jet_dir)"
      ],
      "execution_count": 35,
      "outputs": []
    },
    {
      "cell_type": "code",
      "metadata": {
        "id": "bqOw75R2a8Rd"
      },
      "source": [
        "test_helicopter_dir=os.path.join(test_dir,'helicopter')\n",
        "os.mkdir(test_helicopter_dir)"
      ],
      "execution_count": 36,
      "outputs": []
    },
    {
      "cell_type": "code",
      "metadata": {
        "id": "w7XnrX9na7xv"
      },
      "source": [
        "test_missile_dir=os.path.join(test_dir,'missile')\n",
        "os.mkdir(test_missile_dir)"
      ],
      "execution_count": 37,
      "outputs": []
    },
    {
      "cell_type": "code",
      "metadata": {
        "id": "9IP8w5bJcG27"
      },
      "source": [
        "test_passenger_plane_dir=os.path.join(test_dir,'passenger_plane')\n",
        "os.mkdir(test_passenger_plane_dir)"
      ],
      "execution_count": 38,
      "outputs": []
    },
    {
      "cell_type": "code",
      "metadata": {
        "id": "aJ7EocoNcG-8"
      },
      "source": [
        "test_rocket_dir=os.path.join(test_dir,'rocket')\n",
        "os.mkdir(test_rocket_dir)\n"
      ],
      "execution_count": 39,
      "outputs": []
    },
    {
      "cell_type": "code",
      "metadata": {
        "id": "rt3UoWaWUoa5"
      },
      "source": [
        "names=['drone','fighter_jet','helicopter','missile','passenger_plane','rocket']"
      ],
      "execution_count": 40,
      "outputs": []
    },
    {
      "cell_type": "code",
      "metadata": {
        "id": "kWrm8eE0URHl"
      },
      "source": [
        "train_list=['/content/mini_pro/train/{}'.format(name) for name in names]\n",
        "validation_list=['/content/mini_pro/validation/{}'.format(name) for name in names]\n",
        "test_list=['/content/mini_pro/test/{}'.format(name) for name in names]\n"
      ],
      "execution_count": 41,
      "outputs": []
    },
    {
      "cell_type": "code",
      "metadata": {
        "id": "fo2OMc7ZcHB5"
      },
      "source": [
        "l_dir=['/content/gdrive/My Drive/Data for DL/Data for DL/drone','/content/gdrive/My Drive/Data for DL/Data for DL/fighter-jet'\n",
        "         ,'/content/gdrive/My Drive/Data for DL/Data for DL/helicopter'\n",
        "         ,'/content/gdrive/My Drive/Data for DL/Data for DL/missile',\n",
        "         '/content/gdrive/My Drive/Data for DL/Data for DL/passenger-plane','/content/gdrive/My Drive/Data for DL/Data for DL/rocket']"
      ],
      "execution_count": 336,
      "outputs": []
    },
    {
      "cell_type": "code",
      "metadata": {
        "id": "yPs8j_EvcHFP"
      },
      "source": [
        "fn0=[]\n",
        "fn1=[]\n",
        "fn2=[]\n",
        "fn3=[]\n",
        "fn4=[]\n",
        "fn5=[]\n",
        "b=[fn0,fn1,fn2,fn3,fn4,fn5]"
      ],
      "execution_count": 335,
      "outputs": []
    },
    {
      "cell_type": "code",
      "metadata": {
        "id": "adU0enNu45NO"
      },
      "source": [
        "for i in range(6):\n",
        "    b[i]=os.listdir(l_dir[i])"
      ],
      "execution_count": 337,
      "outputs": []
    },
    {
      "cell_type": "code",
      "metadata": {
        "id": "DmgyQZ_JtiLI"
      },
      "source": [
        "for i in range(6):\n",
        "  for fname in range(int((len(b[i]))*0.5)):\n",
        "    src = os.path.join(l_dir[i], b[i][fname])\n",
        "    dst = os.path.join(train_list[i], b[i][fname])\n",
        "    shutil.copyfile(src, dst)\n",
        "\n",
        "  for fname in range(int((len(b[i]))*0.5),int((len(b[i]))*0.75)):\n",
        "    src = os.path.join(l_dir[i], b[i][fname])\n",
        "    dst = os.path.join(validation_list[i], b[i][fname])\n",
        "    shutil.copyfile(src, dst)\n",
        "\n",
        "  for fname in range(int((len(b[i]))*0.75),int(len(b[i]))):\n",
        "    src = os.path.join(l_dir[i],b[i][fname])\n",
        "    dst = os.path.join(test_list[i],b[i][fname])\n",
        "    shutil.copyfile(src, dst)\n",
        "  "
      ],
      "execution_count": 55,
      "outputs": []
    },
    {
      "cell_type": "code",
      "metadata": {
        "id": "rrEGm9_SpPEP"
      },
      "source": [
        "import keras,os\n",
        "from keras.models import Sequential\n",
        "from keras.layers import Dense, Conv2D, MaxPool2D , Flatten,Dropout\n",
        "from keras.preprocessing.image import ImageDataGenerator\n",
        "import numpy as np\n",
        "\n",
        "from tensorflow.keras.applications import VGG16"
      ],
      "execution_count": 7,
      "outputs": []
    },
    {
      "cell_type": "code",
      "metadata": {
        "id": "y99_Nc1_pR4w"
      },
      "source": [
        ""
      ],
      "execution_count": 351,
      "outputs": []
    },
    {
      "cell_type": "code",
      "metadata": {
        "id": "mP3aMoqnpURG"
      },
      "source": [
        ""
      ],
      "execution_count": 351,
      "outputs": []
    },
    {
      "cell_type": "code",
      "metadata": {
        "id": "PGua43O-pW_X"
      },
      "source": [
        ""
      ],
      "execution_count": 351,
      "outputs": []
    },
    {
      "cell_type": "code",
      "metadata": {
        "id": "EQI1H-rSpZrW"
      },
      "source": [
        "conv_base=VGG16(weights='imagenet',include_top=False,input_shape=(150,150,3))"
      ],
      "execution_count": 8,
      "outputs": []
    },
    {
      "cell_type": "code",
      "metadata": {
        "id": "bo2SNKxZpeU3",
        "outputId": "83ed2fec-92ba-4e36-edee-234ab36d9a2a",
        "colab": {
          "base_uri": "https://localhost:8080/",
          "height": 790
        }
      },
      "source": [
        "conv_base.summary()"
      ],
      "execution_count": 9,
      "outputs": [
        {
          "output_type": "stream",
          "text": [
            "Model: \"vgg16\"\n",
            "_________________________________________________________________\n",
            "Layer (type)                 Output Shape              Param #   \n",
            "=================================================================\n",
            "input_1 (InputLayer)         [(None, 150, 150, 3)]     0         \n",
            "_________________________________________________________________\n",
            "block1_conv1 (Conv2D)        (None, 150, 150, 64)      1792      \n",
            "_________________________________________________________________\n",
            "block1_conv2 (Conv2D)        (None, 150, 150, 64)      36928     \n",
            "_________________________________________________________________\n",
            "block1_pool (MaxPooling2D)   (None, 75, 75, 64)        0         \n",
            "_________________________________________________________________\n",
            "block2_conv1 (Conv2D)        (None, 75, 75, 128)       73856     \n",
            "_________________________________________________________________\n",
            "block2_conv2 (Conv2D)        (None, 75, 75, 128)       147584    \n",
            "_________________________________________________________________\n",
            "block2_pool (MaxPooling2D)   (None, 37, 37, 128)       0         \n",
            "_________________________________________________________________\n",
            "block3_conv1 (Conv2D)        (None, 37, 37, 256)       295168    \n",
            "_________________________________________________________________\n",
            "block3_conv2 (Conv2D)        (None, 37, 37, 256)       590080    \n",
            "_________________________________________________________________\n",
            "block3_conv3 (Conv2D)        (None, 37, 37, 256)       590080    \n",
            "_________________________________________________________________\n",
            "block3_pool (MaxPooling2D)   (None, 18, 18, 256)       0         \n",
            "_________________________________________________________________\n",
            "block4_conv1 (Conv2D)        (None, 18, 18, 512)       1180160   \n",
            "_________________________________________________________________\n",
            "block4_conv2 (Conv2D)        (None, 18, 18, 512)       2359808   \n",
            "_________________________________________________________________\n",
            "block4_conv3 (Conv2D)        (None, 18, 18, 512)       2359808   \n",
            "_________________________________________________________________\n",
            "block4_pool (MaxPooling2D)   (None, 9, 9, 512)         0         \n",
            "_________________________________________________________________\n",
            "block5_conv1 (Conv2D)        (None, 9, 9, 512)         2359808   \n",
            "_________________________________________________________________\n",
            "block5_conv2 (Conv2D)        (None, 9, 9, 512)         2359808   \n",
            "_________________________________________________________________\n",
            "block5_conv3 (Conv2D)        (None, 9, 9, 512)         2359808   \n",
            "_________________________________________________________________\n",
            "block5_pool (MaxPooling2D)   (None, 4, 4, 512)         0         \n",
            "=================================================================\n",
            "Total params: 14,714,688\n",
            "Trainable params: 14,714,688\n",
            "Non-trainable params: 0\n",
            "_________________________________________________________________\n"
          ],
          "name": "stdout"
        }
      ]
    },
    {
      "cell_type": "code",
      "metadata": {
        "id": "dwzsmubJKPAU"
      },
      "source": [
        " conv_base.trainable = False"
      ],
      "execution_count": 10,
      "outputs": []
    },
    {
      "cell_type": "code",
      "metadata": {
        "id": "-QfQLJD0pjwU"
      },
      "source": [
        "model = Sequential()\n",
        "model.add(conv_base)\n",
        "\n",
        "model.add(Conv2D(filters=600, kernel_size=(3,3), padding=\"same\", activation=\"relu\"))\n",
        "model.add(Dropout(0.5))\n",
        "model.add(Conv2D(filters=600, kernel_size=(3,3), padding=\"same\", activation=\"relu\"))\n",
        "model.add(Dropout(0.5))\n",
        "model.add(Conv2D(filters=600, kernel_size=(3,3), padding=\"same\", activation=\"relu\"))\n",
        "model.add(MaxPool2D(pool_size=(2,2),strides=(2,2)))\n",
        "model.add(Flatten())\n",
        "\n",
        "\n",
        "model.add(Dense(units=512,activation=\"relu\"))\n",
        "model.add(Dense(units=128,activation=\"relu\"))\n",
        "model.add(Dense(units=32,activation=\"relu\"))\n",
        "model.add(Dense(units=6, activation=\"sigmoid\"))"
      ],
      "execution_count": 12,
      "outputs": []
    },
    {
      "cell_type": "code",
      "metadata": {
        "id": "kv2PVes_pmY0",
        "outputId": "b339a47f-75cc-4b7f-d719-b9ba325bd110",
        "colab": {
          "base_uri": "https://localhost:8080/",
          "height": 554
        }
      },
      "source": [
        "model.summary()"
      ],
      "execution_count": 13,
      "outputs": [
        {
          "output_type": "stream",
          "text": [
            "Model: \"sequential\"\n",
            "_________________________________________________________________\n",
            "Layer (type)                 Output Shape              Param #   \n",
            "=================================================================\n",
            "vgg16 (Functional)           (None, 4, 4, 512)         14714688  \n",
            "_________________________________________________________________\n",
            "conv2d (Conv2D)              (None, 4, 4, 600)         2765400   \n",
            "_________________________________________________________________\n",
            "dropout (Dropout)            (None, 4, 4, 600)         0         \n",
            "_________________________________________________________________\n",
            "conv2d_1 (Conv2D)            (None, 4, 4, 600)         3240600   \n",
            "_________________________________________________________________\n",
            "dropout_1 (Dropout)          (None, 4, 4, 600)         0         \n",
            "_________________________________________________________________\n",
            "conv2d_2 (Conv2D)            (None, 4, 4, 600)         3240600   \n",
            "_________________________________________________________________\n",
            "max_pooling2d (MaxPooling2D) (None, 2, 2, 600)         0         \n",
            "_________________________________________________________________\n",
            "flatten (Flatten)            (None, 2400)              0         \n",
            "_________________________________________________________________\n",
            "dense (Dense)                (None, 512)               1229312   \n",
            "_________________________________________________________________\n",
            "dense_1 (Dense)              (None, 128)               65664     \n",
            "_________________________________________________________________\n",
            "dense_2 (Dense)              (None, 32)                4128      \n",
            "_________________________________________________________________\n",
            "dense_3 (Dense)              (None, 6)                 198       \n",
            "=================================================================\n",
            "Total params: 25,260,590\n",
            "Trainable params: 10,545,902\n",
            "Non-trainable params: 14,714,688\n",
            "_________________________________________________________________\n"
          ],
          "name": "stdout"
        }
      ]
    },
    {
      "cell_type": "code",
      "metadata": {
        "id": "rOMvayfOppzk"
      },
      "source": [
        "from keras import optimizers\n",
        "from keras.preprocessing.image import ImageDataGenerator\n",
        "train_datagen = ImageDataGenerator(rescale=1./255,rotation_range=40,width_shift_range=0.2,height_shift_range=0.2,shear_range=0.2,\n",
        " zoom_range=0.2,horizontal_flip=True,fill_mode='nearest')\n",
        "\n",
        "test_datagen=ImageDataGenerator(rescale=1./255) "
      ],
      "execution_count": 14,
      "outputs": []
    },
    {
      "cell_type": "code",
      "metadata": {
        "id": "49bHoDeWpp3Q"
      },
      "source": [
        "model.compile(loss='categorical_crossentropy',optimizer=optimizers.RMSprop(lr=1e-4),metrics=['acc'])"
      ],
      "execution_count": 15,
      "outputs": []
    },
    {
      "cell_type": "code",
      "metadata": {
        "id": "vookaKF3pp6k",
        "outputId": "509d5eaf-4d56-42d4-9ae5-0ba316ac73e8",
        "colab": {
          "base_uri": "https://localhost:8080/",
          "height": 195
        }
      },
      "source": [
        "train_generator = train_datagen.flow_from_directory(train_dir,target_size=(150, 150),batch_size=20,class_mode='categorical')\n",
        "validation_generator = test_datagen.flow_from_directory(validation_dir,target_size=(150, 150),batch_size=20,class_mode='categorical')\n",
        "history = model.fit_generator(train_generator,steps_per_epoch=50,epochs=20,validation_data=validation_generator,validation_steps=25)"
      ],
      "execution_count": 16,
      "outputs": [
        {
          "output_type": "error",
          "ename": "NameError",
          "evalue": "ignored",
          "traceback": [
            "\u001b[0;31m---------------------------------------------------------------------------\u001b[0m",
            "\u001b[0;31mNameError\u001b[0m                                 Traceback (most recent call last)",
            "\u001b[0;32m<ipython-input-16-fa8f9c9cd970>\u001b[0m in \u001b[0;36m<module>\u001b[0;34m()\u001b[0m\n\u001b[0;32m----> 1\u001b[0;31m \u001b[0mtrain_generator\u001b[0m \u001b[0;34m=\u001b[0m \u001b[0mtrain_datagen\u001b[0m\u001b[0;34m.\u001b[0m\u001b[0mflow_from_directory\u001b[0m\u001b[0;34m(\u001b[0m\u001b[0mtrain_dir\u001b[0m\u001b[0;34m,\u001b[0m\u001b[0mtarget_size\u001b[0m\u001b[0;34m=\u001b[0m\u001b[0;34m(\u001b[0m\u001b[0;36m150\u001b[0m\u001b[0;34m,\u001b[0m \u001b[0;36m150\u001b[0m\u001b[0;34m)\u001b[0m\u001b[0;34m,\u001b[0m\u001b[0mbatch_size\u001b[0m\u001b[0;34m=\u001b[0m\u001b[0;36m20\u001b[0m\u001b[0;34m,\u001b[0m\u001b[0mclass_mode\u001b[0m\u001b[0;34m=\u001b[0m\u001b[0;34m'categorical'\u001b[0m\u001b[0;34m)\u001b[0m\u001b[0;34m\u001b[0m\u001b[0;34m\u001b[0m\u001b[0m\n\u001b[0m\u001b[1;32m      2\u001b[0m \u001b[0mvalidation_generator\u001b[0m \u001b[0;34m=\u001b[0m \u001b[0mtest_datagen\u001b[0m\u001b[0;34m.\u001b[0m\u001b[0mflow_from_directory\u001b[0m\u001b[0;34m(\u001b[0m\u001b[0mvalidation_dir\u001b[0m\u001b[0;34m,\u001b[0m\u001b[0mtarget_size\u001b[0m\u001b[0;34m=\u001b[0m\u001b[0;34m(\u001b[0m\u001b[0;36m150\u001b[0m\u001b[0;34m,\u001b[0m \u001b[0;36m150\u001b[0m\u001b[0;34m)\u001b[0m\u001b[0;34m,\u001b[0m\u001b[0mbatch_size\u001b[0m\u001b[0;34m=\u001b[0m\u001b[0;36m20\u001b[0m\u001b[0;34m,\u001b[0m\u001b[0mclass_mode\u001b[0m\u001b[0;34m=\u001b[0m\u001b[0;34m'categorical'\u001b[0m\u001b[0;34m)\u001b[0m\u001b[0;34m\u001b[0m\u001b[0;34m\u001b[0m\u001b[0m\n\u001b[1;32m      3\u001b[0m \u001b[0mhistory\u001b[0m \u001b[0;34m=\u001b[0m \u001b[0mmodel\u001b[0m\u001b[0;34m.\u001b[0m\u001b[0mfit_generator\u001b[0m\u001b[0;34m(\u001b[0m\u001b[0mtrain_generator\u001b[0m\u001b[0;34m,\u001b[0m\u001b[0msteps_per_epoch\u001b[0m\u001b[0;34m=\u001b[0m\u001b[0;36m50\u001b[0m\u001b[0;34m,\u001b[0m\u001b[0mepochs\u001b[0m\u001b[0;34m=\u001b[0m\u001b[0;36m20\u001b[0m\u001b[0;34m,\u001b[0m\u001b[0mvalidation_data\u001b[0m\u001b[0;34m=\u001b[0m\u001b[0mvalidation_generator\u001b[0m\u001b[0;34m,\u001b[0m\u001b[0mvalidation_steps\u001b[0m\u001b[0;34m=\u001b[0m\u001b[0;36m25\u001b[0m\u001b[0;34m)\u001b[0m\u001b[0;34m\u001b[0m\u001b[0;34m\u001b[0m\u001b[0m\n",
            "\u001b[0;31mNameError\u001b[0m: name 'train_dir' is not defined"
          ]
        }
      ]
    },
    {
      "cell_type": "markdown",
      "metadata": {
        "id": "-n2Xj3lQ9Tzo"
      },
      "source": [
        ""
      ]
    },
    {
      "cell_type": "code",
      "metadata": {
        "id": "KP5_L4JJaSeS",
        "outputId": "222b65e7-d895-4ff6-c9ac-1690a2a5a9a9",
        "colab": {
          "base_uri": "https://localhost:8080/",
          "height": 353
        }
      },
      "source": [
        "history.history['acc']"
      ],
      "execution_count": 406,
      "outputs": [
        {
          "output_type": "execute_result",
          "data": {
            "text/plain": [
              "[0.21799999475479126,\n",
              " 0.20941883325576782,\n",
              " 0.27799999713897705,\n",
              " 0.2939999997615814,\n",
              " 0.3319999873638153,\n",
              " 0.3269999921321869,\n",
              " 0.35070139169692993,\n",
              " 0.38600000739097595,\n",
              " 0.38600000739097595,\n",
              " 0.41600000858306885,\n",
              " 0.4339999854564667,\n",
              " 0.4268537163734436,\n",
              " 0.4650000035762787,\n",
              " 0.4769538938999176,\n",
              " 0.460999995470047,\n",
              " 0.48399999737739563,\n",
              " 0.49300000071525574,\n",
              " 0.49399998784065247,\n",
              " 0.4719438850879669,\n",
              " 0.5070000290870667]"
            ]
          },
          "metadata": {
            "tags": []
          },
          "execution_count": 406
        }
      ]
    },
    {
      "cell_type": "code",
      "metadata": {
        "id": "wPcWdH7Cp0tA",
        "outputId": "41aa37d6-aca4-4bf1-c22a-99a307925ff1",
        "colab": {
          "base_uri": "https://localhost:8080/",
          "height": 281
        }
      },
      "source": [
        "import matplotlib.pyplot as plt\n",
        "acc = history.history['acc']\n",
        "val_acc = history.history['val_acc']\n",
        "epochs = range(1, len(acc) + 1)\n",
        "plt.plot(epochs, acc, 'bo', label='Training acc')\n",
        "plt.plot(epochs, val_acc, 'b', label='Validation acc')\n",
        "plt.title('Training and validation accuracy')\n",
        "plt.legend()\n",
        "plt.show()\n",
        "\n"
      ],
      "execution_count": 407,
      "outputs": [
        {
          "output_type": "display_data",
          "data": {
            "image/png": "[encoded data removed]",
            "text/plain": [
              "<Figure size 432x288 with 1 Axes>"
            ]
          },
          "metadata": {
            "tags": [],
            "needs_background": "light"
          }
        }
      ]
    },
    {
      "cell_type": "code",
      "metadata": {
        "id": "gnUZIv1zp1jx",
        "outputId": "de7a6fbe-e788-4fad-92b1-e80451874321",
        "colab": {
          "base_uri": "https://localhost:8080/",
          "height": 50
        }
      },
      "source": [
        "test_gen= test_datagen.flow_from_directory(test_dir,target_size=(150, 150),batch_size=20,class_mode='categorical')\n",
        "\n",
        "test_loss, test_acc = model.evaluate(test_gen,steps=50)"
      ],
      "execution_count": 408,
      "outputs": [
        {
          "output_type": "stream",
          "text": [
            "Found 2114 images belonging to 6 classes.\n",
            "50/50 [==============================] - 17s 337ms/step - loss: 1.3135 - acc: 0.4910\n"
          ],
          "name": "stdout"
        }
      ]
    },
    {
      "cell_type": "code",
      "metadata": {
        "id": "V0M5_joT9CVz",
        "outputId": "fcb49167-f31a-4a42-d7fb-8d310f1c8289",
        "colab": {
          "base_uri": "https://localhost:8080/",
          "height": 34
        }
      },
      "source": [
        "validation_generator = test_datagen.flow_from_directory(validation_dir,target_size=(150, 150),batch_size=20,class_mode='categorical')"
      ],
      "execution_count": 409,
      "outputs": [
        {
          "output_type": "stream",
          "text": [
            "Found 2112 images belonging to 6 classes.\n"
          ],
          "name": "stdout"
        }
      ]
    },
    {
      "cell_type": "code",
      "metadata": {
        "id": "SLAiwpZZ9S61"
      },
      "source": [
        "val_len=0\n",
        "for i in range(6):\n",
        "  val_len=val_len+int((len(b[i]))*0.75)-int((len(b[i]))/2) \n"
      ],
      "execution_count": 410,
      "outputs": []
    },
    {
      "cell_type": "code",
      "metadata": {
        "id": "nUYLiZKO9jr-",
        "outputId": "271f260d-8673-44bd-dbb0-cba5971f36d9",
        "colab": {
          "base_uri": "https://localhost:8080/",
          "height": 34
        }
      },
      "source": [
        "val_len"
      ],
      "execution_count": 411,
      "outputs": [
        {
          "output_type": "execute_result",
          "data": {
            "text/plain": [
              "2139"
            ]
          },
          "metadata": {
            "tags": []
          },
          "execution_count": 411
        }
      ]
    },
    {
      "cell_type": "code",
      "metadata": {
        "id": "48uS1JVG9laf"
      },
      "source": [
        ""
      ],
      "execution_count": null,
      "outputs": []
    },
    {
      "cell_type": "code",
      "metadata": {
        "id": "DMyeCy58szfb",
        "outputId": "795eb750-09ae-4d58-a00d-cdf8aaf85be0",
        "colab": {
          "base_uri": "https://localhost:8080/",
          "height": 171
        }
      },
      "source": [
        "\n",
        "\n",
        "from sklearn.metrics import confusion_matrix\n",
        "import numpy as np\n",
        "batch_size=20\n",
        "\n",
        "\n",
        "\n",
        "prob=model.predict_generator(validation_generator,val_len//batch_size+1)\n",
        "y_pred=np.argmax(prob,axis=1)\n",
        "y_true=validation_generator.classes\n",
        "\n",
        "c = confusion_matrix(y_true, y_pred)\n",
        "print('confusion matrix')\n",
        "print(c)\n",
        " "
      ],
      "execution_count": 412,
      "outputs": [
        {
          "output_type": "stream",
          "text": [
            "WARNING:tensorflow:Your input ran out of data; interrupting training. Make sure that your dataset or generator can generate at least `steps_per_epoch * epochs` batches (in this case, 107 batches). You may need to use the repeat() function when building your dataset.\n",
            "confusion matrix\n",
            "[[ 59  89  63  77  43   0]\n",
            " [ 86 135  81  98  62   0]\n",
            " [ 83 104  40  68  46   0]\n",
            " [ 66 124  55  50  36   0]\n",
            " [ 70 108  46  76  54   0]\n",
            " [ 52  89  42  75  35   0]]\n"
          ],
          "name": "stdout"
        }
      ]
    }
  ]
}