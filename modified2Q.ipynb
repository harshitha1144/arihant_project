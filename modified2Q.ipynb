{
  "nbformat": 4,
  "nbformat_minor": 0,
  "metadata": {
    "colab": {
      "name": "modified2Q.ipynb",
      "provenance": []
    },
    "kernelspec": {
      "name": "python3",
      "display_name": "Python 3"
    },
    "accelerator": "GPU"
  },
  "cells": [
    {
      "cell_type": "code",
      "metadata": {
        "id": "N-U3PrKwavwZ"
      },
      "source": [
        "from google.colab import drive"
      ],
      "execution_count": 1,
      "outputs": []
    },
    {
      "cell_type": "code",
      "metadata": {
        "id": "1PkMdP53a7pM",
        "outputId": "515dafdf-eb41-4913-889b-615b8256c27c",
        "colab": {
          "base_uri": "https://localhost:8080/",
          "height": 34
        }
      },
      "source": [
        "drive.mount('/content/gdrive')"
      ],
      "execution_count": 2,
      "outputs": [
        {
          "output_type": "stream",
          "text": [
            "Mounted at /content/gdrive\n"
          ],
          "name": "stdout"
        }
      ]
    },
    {
      "cell_type": "code",
      "metadata": {
        "id": "-lSEyJGVa7r9"
      },
      "source": [
        "import os,shutil"
      ],
      "execution_count": 3,
      "outputs": []
    },
    {
      "cell_type": "code",
      "metadata": {
        "id": "AkACSLMLa7u6"
      },
      "source": [
        "original_data='/content/gdrive/My Drive/Data for DL/Data for DL'"
      ],
      "execution_count": 4,
      "outputs": []
    },
    {
      "cell_type": "code",
      "metadata": {
        "id": "01Ilp5SSa70k"
      },
      "source": [
        "base_dir='/content/mini_pro'"
      ],
      "execution_count": 5,
      "outputs": []
    },
    {
      "cell_type": "code",
      "metadata": {
        "id": "ObNM4k_Fa72_"
      },
      "source": [
        "os.mkdir(base_dir)"
      ],
      "execution_count": 6,
      "outputs": []
    },
    {
      "cell_type": "code",
      "metadata": {
        "id": "Xf_qnWsea75S"
      },
      "source": [
        "train_dir=os.path.join(base_dir,'train')"
      ],
      "execution_count": 7,
      "outputs": []
    },
    {
      "cell_type": "code",
      "metadata": {
        "id": "99P76dXma77z"
      },
      "source": [
        "os.mkdir(train_dir)"
      ],
      "execution_count": 8,
      "outputs": []
    },
    {
      "cell_type": "code",
      "metadata": {
        "id": "V47teaDRa7-X"
      },
      "source": [
        "validation_dir=os.path.join(base_dir,'validation')"
      ],
      "execution_count": 9,
      "outputs": []
    },
    {
      "cell_type": "code",
      "metadata": {
        "id": "Q0EBFu_Pa8Ax"
      },
      "source": [
        "os.mkdir(validation_dir)"
      ],
      "execution_count": 10,
      "outputs": []
    },
    {
      "cell_type": "code",
      "metadata": {
        "id": "_0rpvV9_a8DS"
      },
      "source": [
        "test_dir=os.path.join(base_dir,'test')"
      ],
      "execution_count": 11,
      "outputs": []
    },
    {
      "cell_type": "code",
      "metadata": {
        "id": "eVFLUMEna8Fj"
      },
      "source": [
        "os.mkdir(test_dir)"
      ],
      "execution_count": 12,
      "outputs": []
    },
    {
      "cell_type": "code",
      "metadata": {
        "id": "wLL4hRwP3Mog"
      },
      "source": [
        ""
      ],
      "execution_count": null,
      "outputs": []
    },
    {
      "cell_type": "code",
      "metadata": {
        "id": "C5ejrTQta8IP"
      },
      "source": [
        "train_drone_dir=os.path.join(train_dir,'drone')\n",
        "os.mkdir(train_drone_dir)"
      ],
      "execution_count": 13,
      "outputs": []
    },
    {
      "cell_type": "code",
      "metadata": {
        "id": "kFG_DvZQa8Kz"
      },
      "source": [
        "train_fighter_jet_dir=os.path.join(train_dir,'fighter_jet')\n",
        "os.mkdir(train_fighter_jet_dir)"
      ],
      "execution_count": 14,
      "outputs": []
    },
    {
      "cell_type": "code",
      "metadata": {
        "id": "UIoIbUBDa8Nk"
      },
      "source": [
        "train_helicopter_dir=os.path.join(train_dir,'helicopter')\n",
        "os.mkdir(train_helicopter_dir)"
      ],
      "execution_count": 15,
      "outputs": []
    },
    {
      "cell_type": "code",
      "metadata": {
        "id": "CoY8MavEa8TD"
      },
      "source": [
        "train_missile_dir=os.path.join(train_dir,'missile')\n",
        "os.mkdir(train_missile_dir)"
      ],
      "execution_count": 16,
      "outputs": []
    },
    {
      "cell_type": "code",
      "metadata": {
        "id": "j04GdMHGa8Vz"
      },
      "source": [
        "train_passenger_plane_dir=os.path.join(train_dir,'passenger_plane')\n",
        "os.mkdir(train_passenger_plane_dir)"
      ],
      "execution_count": 17,
      "outputs": []
    },
    {
      "cell_type": "code",
      "metadata": {
        "id": "CjcX7C5Ra8YW"
      },
      "source": [
        "train_rocket_dir=os.path.join(train_dir,'rocket')\n",
        "os.mkdir(train_rocket_dir)"
      ],
      "execution_count": 18,
      "outputs": []
    },
    {
      "cell_type": "code",
      "metadata": {
        "id": "3-hJGEL-a8cL"
      },
      "source": [
        "validation_drone_dir=os.path.join(validation_dir,'drone')\n",
        "os.mkdir(validation_drone_dir)"
      ],
      "execution_count": 19,
      "outputs": []
    },
    {
      "cell_type": "code",
      "metadata": {
        "id": "ELtnuTaMbttW"
      },
      "source": [
        "validation_fighter_jet_dir=os.path.join(validation_dir,'fighter_jet')\n",
        "os.mkdir(validation_fighter_jet_dir)"
      ],
      "execution_count": 20,
      "outputs": []
    },
    {
      "cell_type": "code",
      "metadata": {
        "id": "y4RSTE7-btwB"
      },
      "source": [
        "validation_helicopter_dir=os.path.join(validation_dir,'helicopter')\n",
        "os.mkdir(validation_helicopter_dir)"
      ],
      "execution_count": 21,
      "outputs": []
    },
    {
      "cell_type": "code",
      "metadata": {
        "id": "XrDn2mLbbtzK"
      },
      "source": [
        "validation_missile_dir=os.path.join(validation_dir,'missile')\n",
        "os.mkdir(validation_missile_dir)"
      ],
      "execution_count": 22,
      "outputs": []
    },
    {
      "cell_type": "code",
      "metadata": {
        "id": "Xc-76YQVbt19"
      },
      "source": [
        "validation_passenger_plane_dir=os.path.join(validation_dir,'passenger_plane')\n",
        "os.mkdir(validation_passenger_plane_dir)"
      ],
      "execution_count": 23,
      "outputs": []
    },
    {
      "cell_type": "code",
      "metadata": {
        "id": "E_UmA3XLbt47"
      },
      "source": [
        "validation_rocket_dir=os.path.join(validation_dir,'rocket')\n",
        "os.mkdir(validation_rocket_dir)"
      ],
      "execution_count": 24,
      "outputs": []
    },
    {
      "cell_type": "code",
      "metadata": {
        "id": "NwbpWb6nbt76"
      },
      "source": [
        "test_drone_dir=os.path.join(test_dir,'drone')\n",
        "os.mkdir(test_drone_dir)"
      ],
      "execution_count": 25,
      "outputs": []
    },
    {
      "cell_type": "code",
      "metadata": {
        "id": "GJmydmZHbt_U"
      },
      "source": [
        "test_fighter_jet_dir=os.path.join(test_dir,'fighter_jet')\n",
        "os.mkdir(test_fighter_jet_dir)"
      ],
      "execution_count": 26,
      "outputs": []
    },
    {
      "cell_type": "code",
      "metadata": {
        "id": "bqOw75R2a8Rd"
      },
      "source": [
        "test_helicopter_dir=os.path.join(test_dir,'helicopter')\n",
        "os.mkdir(test_helicopter_dir)"
      ],
      "execution_count": 27,
      "outputs": []
    },
    {
      "cell_type": "code",
      "metadata": {
        "id": "w7XnrX9na7xv"
      },
      "source": [
        "test_missile_dir=os.path.join(test_dir,'missile')\n",
        "os.mkdir(test_missile_dir)"
      ],
      "execution_count": 28,
      "outputs": []
    },
    {
      "cell_type": "code",
      "metadata": {
        "id": "9IP8w5bJcG27"
      },
      "source": [
        "test_passenger_plane_dir=os.path.join(test_dir,'passenger_plane')\n",
        "os.mkdir(test_passenger_plane_dir)"
      ],
      "execution_count": 29,
      "outputs": []
    },
    {
      "cell_type": "code",
      "metadata": {
        "id": "aJ7EocoNcG-8"
      },
      "source": [
        "test_rocket_dir=os.path.join(test_dir,'rocket')\n",
        "os.mkdir(test_rocket_dir)\n"
      ],
      "execution_count": 30,
      "outputs": []
    },
    {
      "cell_type": "code",
      "metadata": {
        "id": "rt3UoWaWUoa5"
      },
      "source": [
        "names=['drone','fighter_jet','helicopter','missile','passenger_plane','rocket']"
      ],
      "execution_count": 31,
      "outputs": []
    },
    {
      "cell_type": "code",
      "metadata": {
        "id": "kWrm8eE0URHl"
      },
      "source": [
        "train_list=['/content/mini_pro/train/{}'.format(name) for name in names]\n",
        "validation_list=['/content/mini_pro/validation/{}'.format(name) for name in names]\n",
        "test_list=['/content/mini_pro/test/{}'.format(name) for name in names]\n"
      ],
      "execution_count": 32,
      "outputs": []
    },
    {
      "cell_type": "code",
      "metadata": {
        "id": "fo2OMc7ZcHB5"
      },
      "source": [
        "l_dir=['/content/gdrive/My Drive/Data for DL/Data for DL/drone','/content/gdrive/My Drive/Data for DL/Data for DL/fighter-jet'\n",
        "         ,'/content/gdrive/My Drive/Data for DL/Data for DL/helicopter'\n",
        "         ,'/content/gdrive/My Drive/Data for DL/Data for DL/missile',\n",
        "         '/content/gdrive/My Drive/Data for DL/Data for DL/passenger-plane','/content/gdrive/My Drive/Data for DL/Data for DL/rocket']"
      ],
      "execution_count": 33,
      "outputs": []
    },
    {
      "cell_type": "code",
      "metadata": {
        "id": "yPs8j_EvcHFP"
      },
      "source": [
        "fn0=[]\n",
        "fn1=[]\n",
        "fn2=[]\n",
        "fn3=[]\n",
        "fn4=[]\n",
        "fn5=[]\n",
        "b=[fn0,fn1,fn2,fn3,fn4,fn5]"
      ],
      "execution_count": 34,
      "outputs": []
    },
    {
      "cell_type": "code",
      "metadata": {
        "id": "adU0enNu45NO"
      },
      "source": [
        "for i in range(6):\n",
        "    b[i]=os.listdir(l_dir[i])"
      ],
      "execution_count": 35,
      "outputs": []
    },
    {
      "cell_type": "code",
      "metadata": {
        "id": "DmgyQZ_JtiLI"
      },
      "source": [
        "for i in range(6):\n",
        "  for fname in range(int((len(b[i]))*0.5)):\n",
        "    src = os.path.join(l_dir[i], b[i][fname])\n",
        "    dst = os.path.join(train_list[i], b[i][fname])\n",
        "    shutil.copyfile(src, dst)\n",
        "\n",
        "  for fname in range(int((len(b[i]))*0.5),int((len(b[i]))*0.75)):\n",
        "    src = os.path.join(l_dir[i], b[i][fname])\n",
        "    dst = os.path.join(validation_list[i], b[i][fname])\n",
        "    shutil.copyfile(src, dst)\n",
        "\n",
        "  for fname in range(int((len(b[i]))*0.75),int(len(b[i]))):\n",
        "    src = os.path.join(l_dir[i],b[i][fname])\n",
        "    dst = os.path.join(test_list[i],b[i][fname])\n",
        "    shutil.copyfile(src, dst)\n",
        "  "
      ],
      "execution_count": 36,
      "outputs": []
    },
    {
      "cell_type": "code",
      "metadata": {
        "id": "rrEGm9_SpPEP"
      },
      "source": [
        "import keras,os\n",
        "from keras.models import Sequential\n",
        "from keras.layers import Dense, Conv2D, MaxPool2D , Flatten,Dropout\n",
        "from keras.preprocessing.image import ImageDataGenerator\n",
        "import numpy as np\n",
        "\n",
        "from tensorflow.keras.applications import VGG16"
      ],
      "execution_count": 37,
      "outputs": []
    },
    {
      "cell_type": "code",
      "metadata": {
        "id": "y99_Nc1_pR4w"
      },
      "source": [
        ""
      ],
      "execution_count": null,
      "outputs": []
    },
    {
      "cell_type": "code",
      "metadata": {
        "id": "mP3aMoqnpURG"
      },
      "source": [
        ""
      ],
      "execution_count": null,
      "outputs": []
    },
    {
      "cell_type": "code",
      "metadata": {
        "id": "PGua43O-pW_X"
      },
      "source": [
        ""
      ],
      "execution_count": null,
      "outputs": []
    },
    {
      "cell_type": "code",
      "metadata": {
        "id": "EQI1H-rSpZrW",
        "outputId": "0c309d9b-d262-451c-b62e-013b6fec1a99",
        "colab": {
          "base_uri": "https://localhost:8080/",
          "height": 50
        }
      },
      "source": [
        "conv_base=VGG16(weights='imagenet',include_top=False,input_shape=(150,150,3))"
      ],
      "execution_count": 38,
      "outputs": [
        {
          "output_type": "stream",
          "text": [
            "Downloading data from https://storage.googleapis.com/tensorflow/keras-applications/vgg16/vgg16_weights_tf_dim_ordering_tf_kernels_notop.h5\n",
            "58892288/58889256 [==============================] - 0s 0us/step\n"
          ],
          "name": "stdout"
        }
      ]
    },
    {
      "cell_type": "code",
      "metadata": {
        "id": "bo2SNKxZpeU3",
        "outputId": "29f174fd-b2ae-4084-e2a8-d4ac9afcddeb",
        "colab": {
          "base_uri": "https://localhost:8080/",
          "height": 790
        }
      },
      "source": [
        "conv_base.summary()"
      ],
      "execution_count": 39,
      "outputs": [
        {
          "output_type": "stream",
          "text": [
            "Model: \"vgg16\"\n",
            "_________________________________________________________________\n",
            "Layer (type)                 Output Shape              Param #   \n",
            "=================================================================\n",
            "input_1 (InputLayer)         [(None, 150, 150, 3)]     0         \n",
            "_________________________________________________________________\n",
            "block1_conv1 (Conv2D)        (None, 150, 150, 64)      1792      \n",
            "_________________________________________________________________\n",
            "block1_conv2 (Conv2D)        (None, 150, 150, 64)      36928     \n",
            "_________________________________________________________________\n",
            "block1_pool (MaxPooling2D)   (None, 75, 75, 64)        0         \n",
            "_________________________________________________________________\n",
            "block2_conv1 (Conv2D)        (None, 75, 75, 128)       73856     \n",
            "_________________________________________________________________\n",
            "block2_conv2 (Conv2D)        (None, 75, 75, 128)       147584    \n",
            "_________________________________________________________________\n",
            "block2_pool (MaxPooling2D)   (None, 37, 37, 128)       0         \n",
            "_________________________________________________________________\n",
            "block3_conv1 (Conv2D)        (None, 37, 37, 256)       295168    \n",
            "_________________________________________________________________\n",
            "block3_conv2 (Conv2D)        (None, 37, 37, 256)       590080    \n",
            "_________________________________________________________________\n",
            "block3_conv3 (Conv2D)        (None, 37, 37, 256)       590080    \n",
            "_________________________________________________________________\n",
            "block3_pool (MaxPooling2D)   (None, 18, 18, 256)       0         \n",
            "_________________________________________________________________\n",
            "block4_conv1 (Conv2D)        (None, 18, 18, 512)       1180160   \n",
            "_________________________________________________________________\n",
            "block4_conv2 (Conv2D)        (None, 18, 18, 512)       2359808   \n",
            "_________________________________________________________________\n",
            "block4_conv3 (Conv2D)        (None, 18, 18, 512)       2359808   \n",
            "_________________________________________________________________\n",
            "block4_pool (MaxPooling2D)   (None, 9, 9, 512)         0         \n",
            "_________________________________________________________________\n",
            "block5_conv1 (Conv2D)        (None, 9, 9, 512)         2359808   \n",
            "_________________________________________________________________\n",
            "block5_conv2 (Conv2D)        (None, 9, 9, 512)         2359808   \n",
            "_________________________________________________________________\n",
            "block5_conv3 (Conv2D)        (None, 9, 9, 512)         2359808   \n",
            "_________________________________________________________________\n",
            "block5_pool (MaxPooling2D)   (None, 4, 4, 512)         0         \n",
            "=================================================================\n",
            "Total params: 14,714,688\n",
            "Trainable params: 14,714,688\n",
            "Non-trainable params: 0\n",
            "_________________________________________________________________\n"
          ],
          "name": "stdout"
        }
      ]
    },
    {
      "cell_type": "code",
      "metadata": {
        "id": "dwzsmubJKPAU"
      },
      "source": [
        " conv_base.trainable = False"
      ],
      "execution_count": 40,
      "outputs": []
    },
    {
      "cell_type": "code",
      "metadata": {
        "id": "-QfQLJD0pjwU"
      },
      "source": [
        "model = Sequential()\n",
        "model.add(conv_base)\n",
        "\n",
        "model.add(Conv2D(filters=600, kernel_size=(3,3), padding=\"same\", activation=\"relu\"))\n",
        "model.add(Dropout(0.5))\n",
        "model.add(Conv2D(filters=600, kernel_size=(3,3), padding=\"same\", activation=\"relu\"))\n",
        "model.add(Dropout(0.5))\n",
        "model.add(Conv2D(filters=600, kernel_size=(3,3), padding=\"same\", activation=\"relu\"))\n",
        "model.add(MaxPool2D(pool_size=(2,2),strides=(2,2)))\n",
        "model.add(Flatten())\n",
        "\n",
        "\n",
        "model.add(Dense(units=512,activation=\"relu\"))\n",
        "model.add(Dense(units=128,activation=\"relu\"))\n",
        "model.add(Dense(units=32,activation=\"relu\"))\n",
        "model.add(Dense(units=6, activation=\"sigmoid\"))"
      ],
      "execution_count": 41,
      "outputs": []
    },
    {
      "cell_type": "code",
      "metadata": {
        "id": "kv2PVes_pmY0",
        "outputId": "e59f7ebc-2c9c-4d56-81f3-6c27f3483a94",
        "colab": {
          "base_uri": "https://localhost:8080/",
          "height": 554
        }
      },
      "source": [
        "model.summary()"
      ],
      "execution_count": 42,
      "outputs": [
        {
          "output_type": "stream",
          "text": [
            "Model: \"sequential\"\n",
            "_________________________________________________________________\n",
            "Layer (type)                 Output Shape              Param #   \n",
            "=================================================================\n",
            "vgg16 (Functional)           (None, 4, 4, 512)         14714688  \n",
            "_________________________________________________________________\n",
            "conv2d (Conv2D)              (None, 4, 4, 600)         2765400   \n",
            "_________________________________________________________________\n",
            "dropout (Dropout)            (None, 4, 4, 600)         0         \n",
            "_________________________________________________________________\n",
            "conv2d_1 (Conv2D)            (None, 4, 4, 600)         3240600   \n",
            "_________________________________________________________________\n",
            "dropout_1 (Dropout)          (None, 4, 4, 600)         0         \n",
            "_________________________________________________________________\n",
            "conv2d_2 (Conv2D)            (None, 4, 4, 600)         3240600   \n",
            "_________________________________________________________________\n",
            "max_pooling2d (MaxPooling2D) (None, 2, 2, 600)         0         \n",
            "_________________________________________________________________\n",
            "flatten (Flatten)            (None, 2400)              0         \n",
            "_________________________________________________________________\n",
            "dense (Dense)                (None, 512)               1229312   \n",
            "_________________________________________________________________\n",
            "dense_1 (Dense)              (None, 128)               65664     \n",
            "_________________________________________________________________\n",
            "dense_2 (Dense)              (None, 32)                4128      \n",
            "_________________________________________________________________\n",
            "dense_3 (Dense)              (None, 6)                 198       \n",
            "=================================================================\n",
            "Total params: 25,260,590\n",
            "Trainable params: 10,545,902\n",
            "Non-trainable params: 14,714,688\n",
            "_________________________________________________________________\n"
          ],
          "name": "stdout"
        }
      ]
    },
    {
      "cell_type": "code",
      "metadata": {
        "id": "rOMvayfOppzk"
      },
      "source": [
        "from keras import optimizers\n",
        "from keras.preprocessing.image import ImageDataGenerator\n",
        "train_datagen = ImageDataGenerator(rescale=1./255,rotation_range=40,width_shift_range=0.2,height_shift_range=0.2,shear_range=0.2,\n",
        " zoom_range=0.2,horizontal_flip=True,fill_mode='nearest')\n",
        "\n",
        "test_datagen=ImageDataGenerator(rescale=1./255) "
      ],
      "execution_count": 43,
      "outputs": []
    },
    {
      "cell_type": "code",
      "metadata": {
        "id": "49bHoDeWpp3Q"
      },
      "source": [
        "model.compile(loss='categorical_crossentropy',optimizer=optimizers.RMSprop(lr=1e-4),metrics=['acc'])"
      ],
      "execution_count": 44,
      "outputs": []
    },
    {
      "cell_type": "code",
      "metadata": {
        "id": "vookaKF3pp6k",
        "outputId": "dccf4d92-6839-41b3-f45f-da14088db2d4",
        "colab": {
          "base_uri": "https://localhost:8080/",
          "height": 1000
        }
      },
      "source": [
        "train_generator = train_datagen.flow_from_directory(train_dir,target_size=(150, 150),batch_size=20,class_mode='categorical')\n",
        "validation_generator = test_datagen.flow_from_directory(validation_dir,target_size=(150, 150),batch_size=20,class_mode='categorical')\n",
        "history = model.fit_generator(train_generator,steps_per_epoch=50,epochs=50,validation_data=validation_generator,validation_steps=25)"
      ],
      "execution_count": 75,
      "outputs": [
        {
          "output_type": "stream",
          "text": [
            "Found 4218 images belonging to 6 classes.\n",
            "Found 2112 images belonging to 6 classes.\n",
            "Epoch 1/50\n",
            "50/50 [==============================] - 31s 617ms/step - loss: 0.9514 - acc: 0.6320 - val_loss: 1.0378 - val_acc: 0.6720\n",
            "Epoch 2/50\n",
            "50/50 [==============================] - 30s 603ms/step - loss: 0.9196 - acc: 0.6590 - val_loss: 1.1168 - val_acc: 0.6380\n",
            "Epoch 3/50\n",
            "50/50 [==============================] - 30s 606ms/step - loss: 0.9053 - acc: 0.6633 - val_loss: 1.0126 - val_acc: 0.6760\n",
            "Epoch 4/50\n",
            "50/50 [==============================] - 31s 622ms/step - loss: 0.9402 - acc: 0.6470 - val_loss: 1.1759 - val_acc: 0.6340\n",
            "Epoch 5/50\n",
            "50/50 [==============================] - 30s 609ms/step - loss: 0.9571 - acc: 0.6610 - val_loss: 1.4622 - val_acc: 0.6080\n",
            "Epoch 6/50\n",
            "50/50 [==============================] - 29s 580ms/step - loss: 0.9598 - acc: 0.6603 - val_loss: 1.2279 - val_acc: 0.6280\n",
            "Epoch 7/50\n",
            "50/50 [==============================] - 31s 612ms/step - loss: 0.9053 - acc: 0.6550 - val_loss: 1.1187 - val_acc: 0.6360\n",
            "Epoch 8/50\n",
            "50/50 [==============================] - 32s 630ms/step - loss: 0.9579 - acc: 0.6510 - val_loss: 1.1872 - val_acc: 0.6800\n",
            "Epoch 9/50\n",
            "50/50 [==============================] - 32s 637ms/step - loss: 0.9515 - acc: 0.6640 - val_loss: 0.9194 - val_acc: 0.6920\n",
            "Epoch 10/50\n",
            "50/50 [==============================] - 32s 639ms/step - loss: 1.0211 - acc: 0.6560 - val_loss: 1.0569 - val_acc: 0.6500\n",
            "Epoch 11/50\n",
            "50/50 [==============================] - 33s 651ms/step - loss: 0.9931 - acc: 0.6300 - val_loss: 1.2868 - val_acc: 0.6380\n",
            "Epoch 12/50\n",
            "50/50 [==============================] - 31s 612ms/step - loss: 0.9283 - acc: 0.6713 - val_loss: 1.1583 - val_acc: 0.6480\n",
            "Epoch 13/50\n",
            "50/50 [==============================] - 31s 620ms/step - loss: 0.9400 - acc: 0.6410 - val_loss: 1.2004 - val_acc: 0.6480\n",
            "Epoch 14/50\n",
            "50/50 [==============================] - 31s 627ms/step - loss: 0.9057 - acc: 0.6550 - val_loss: 1.0967 - val_acc: 0.6600\n",
            "Epoch 15/50\n",
            "50/50 [==============================] - 31s 615ms/step - loss: 0.9239 - acc: 0.6470 - val_loss: 1.1945 - val_acc: 0.6620\n",
            "Epoch 16/50\n",
            "50/50 [==============================] - 32s 647ms/step - loss: 0.9174 - acc: 0.6673 - val_loss: 1.1755 - val_acc: 0.6480\n",
            "Epoch 17/50\n",
            "50/50 [==============================] - 30s 610ms/step - loss: 0.8978 - acc: 0.6410 - val_loss: 1.2149 - val_acc: 0.6440\n",
            "Epoch 18/50\n",
            "50/50 [==============================] - 33s 652ms/step - loss: 0.8790 - acc: 0.6810 - val_loss: 1.1950 - val_acc: 0.6380\n",
            "Epoch 19/50\n",
            "50/50 [==============================] - 31s 618ms/step - loss: 0.9153 - acc: 0.6500 - val_loss: 1.1589 - val_acc: 0.6540\n",
            "Epoch 20/50\n",
            "50/50 [==============================] - 31s 624ms/step - loss: 0.9071 - acc: 0.6550 - val_loss: 1.2312 - val_acc: 0.6180\n",
            "Epoch 21/50\n",
            "50/50 [==============================] - 31s 616ms/step - loss: 0.9389 - acc: 0.6600 - val_loss: 1.2062 - val_acc: 0.6760\n",
            "Epoch 22/50\n",
            "50/50 [==============================] - 32s 636ms/step - loss: 0.8658 - acc: 0.6840 - val_loss: 1.2618 - val_acc: 0.6640\n",
            "Epoch 23/50\n",
            "50/50 [==============================] - 34s 685ms/step - loss: 0.9258 - acc: 0.6950 - val_loss: 1.0852 - val_acc: 0.6460\n",
            "Epoch 24/50\n",
            "50/50 [==============================] - 30s 594ms/step - loss: 0.9567 - acc: 0.6440 - val_loss: 1.1054 - val_acc: 0.6900\n",
            "Epoch 25/50\n",
            "50/50 [==============================] - 27s 548ms/step - loss: 0.9249 - acc: 0.6600 - val_loss: 1.0745 - val_acc: 0.6600\n",
            "Epoch 26/50\n",
            "50/50 [==============================] - 30s 598ms/step - loss: 0.8734 - acc: 0.6910 - val_loss: 1.1872 - val_acc: 0.6640\n",
            "Epoch 27/50\n",
            "50/50 [==============================] - 32s 642ms/step - loss: 0.9246 - acc: 0.6780 - val_loss: 1.3941 - val_acc: 0.6400\n",
            "Epoch 28/50\n",
            "50/50 [==============================] - 32s 633ms/step - loss: 0.9315 - acc: 0.6650 - val_loss: 1.2044 - val_acc: 0.6600\n",
            "Epoch 29/50\n",
            "50/50 [==============================] - 34s 674ms/step - loss: 0.8767 - acc: 0.6613 - val_loss: 1.2917 - val_acc: 0.6520\n",
            "Epoch 30/50\n",
            "50/50 [==============================] - 32s 640ms/step - loss: 0.9008 - acc: 0.6764 - val_loss: 1.1715 - val_acc: 0.6440\n",
            "Epoch 31/50\n",
            "50/50 [==============================] - 34s 684ms/step - loss: 0.9326 - acc: 0.6593 - val_loss: 1.0722 - val_acc: 0.6800\n",
            "Epoch 32/50\n",
            "50/50 [==============================] - 33s 662ms/step - loss: 0.9688 - acc: 0.6440 - val_loss: 1.1487 - val_acc: 0.6520\n",
            "Epoch 33/50\n",
            "50/50 [==============================] - 33s 653ms/step - loss: 0.9146 - acc: 0.6814 - val_loss: 1.2175 - val_acc: 0.6560\n",
            "Epoch 34/50\n",
            "50/50 [==============================] - 31s 619ms/step - loss: 0.8784 - acc: 0.6590 - val_loss: 1.0740 - val_acc: 0.6840\n",
            "Epoch 35/50\n",
            "50/50 [==============================] - 32s 639ms/step - loss: 0.8854 - acc: 0.6590 - val_loss: 1.1159 - val_acc: 0.6840\n",
            "Epoch 36/50\n",
            "50/50 [==============================] - 32s 643ms/step - loss: 0.9443 - acc: 0.6730 - val_loss: 1.1605 - val_acc: 0.6760\n",
            "Epoch 37/50\n",
            "50/50 [==============================] - 32s 640ms/step - loss: 0.9956 - acc: 0.6510 - val_loss: 1.2686 - val_acc: 0.6420\n",
            "Epoch 38/50\n",
            "50/50 [==============================] - 32s 643ms/step - loss: 0.9550 - acc: 0.6640 - val_loss: 1.0647 - val_acc: 0.6400\n",
            "Epoch 39/50\n",
            "50/50 [==============================] - 33s 661ms/step - loss: 0.8809 - acc: 0.6720 - val_loss: 1.2518 - val_acc: 0.6560\n",
            "Epoch 40/50\n",
            "50/50 [==============================] - 32s 642ms/step - loss: 0.8989 - acc: 0.6814 - val_loss: 1.3826 - val_acc: 0.6380\n",
            "Epoch 41/50\n",
            "50/50 [==============================] - 32s 649ms/step - loss: 0.9175 - acc: 0.6790 - val_loss: 1.0998 - val_acc: 0.6680\n",
            "Epoch 42/50\n",
            "50/50 [==============================] - 33s 657ms/step - loss: 0.8957 - acc: 0.6700 - val_loss: 1.1492 - val_acc: 0.6340\n",
            "Epoch 43/50\n",
            "50/50 [==============================] - 32s 645ms/step - loss: 0.8699 - acc: 0.6800 - val_loss: 1.1558 - val_acc: 0.6360\n",
            "Epoch 44/50\n",
            "50/50 [==============================] - 34s 682ms/step - loss: 0.9115 - acc: 0.6790 - val_loss: 1.1931 - val_acc: 0.6280\n",
            "Epoch 45/50\n",
            "50/50 [==============================] - 33s 657ms/step - loss: 0.9170 - acc: 0.6400 - val_loss: 1.1518 - val_acc: 0.6380\n",
            "Epoch 46/50\n",
            "50/50 [==============================] - 33s 652ms/step - loss: 0.8869 - acc: 0.6733 - val_loss: 1.2058 - val_acc: 0.6380\n",
            "Epoch 47/50\n",
            "50/50 [==============================] - 33s 664ms/step - loss: 0.8876 - acc: 0.6660 - val_loss: 1.1997 - val_acc: 0.6360\n",
            "Epoch 48/50\n",
            "50/50 [==============================] - 32s 643ms/step - loss: 0.9127 - acc: 0.6850 - val_loss: 1.0521 - val_acc: 0.6500\n",
            "Epoch 49/50\n",
            "50/50 [==============================] - 34s 677ms/step - loss: 0.9428 - acc: 0.6543 - val_loss: 1.1803 - val_acc: 0.6420\n",
            "Epoch 50/50\n",
            "50/50 [==============================] - 33s 669ms/step - loss: 0.9155 - acc: 0.6740 - val_loss: 1.0815 - val_acc: 0.6460\n"
          ],
          "name": "stdout"
        }
      ]
    },
    {
      "cell_type": "markdown",
      "metadata": {
        "id": "-n2Xj3lQ9Tzo"
      },
      "source": [
        ""
      ]
    },
    {
      "cell_type": "code",
      "metadata": {
        "id": "KP5_L4JJaSeS",
        "outputId": "cc353cdb-523c-43b2-c849-9f1ac64b26c1",
        "colab": {
          "base_uri": "https://localhost:8080/",
          "height": 857
        }
      },
      "source": [
        "history.history['acc']"
      ],
      "execution_count": 76,
      "outputs": [
        {
          "output_type": "execute_result",
          "data": {
            "text/plain": [
              "[0.6320000290870667,\n",
              " 0.6589999794960022,\n",
              " 0.6633266806602478,\n",
              " 0.6470000147819519,\n",
              " 0.6610000133514404,\n",
              " 0.6603206396102905,\n",
              " 0.6549999713897705,\n",
              " 0.6510000228881836,\n",
              " 0.6639999747276306,\n",
              " 0.656000018119812,\n",
              " 0.6299999952316284,\n",
              " 0.671342670917511,\n",
              " 0.640999972820282,\n",
              " 0.6549999713897705,\n",
              " 0.6470000147819519,\n",
              " 0.6673346757888794,\n",
              " 0.640999972820282,\n",
              " 0.6809999942779541,\n",
              " 0.6499999761581421,\n",
              " 0.6549999713897705,\n",
              " 0.6600000262260437,\n",
              " 0.6840000152587891,\n",
              " 0.6949999928474426,\n",
              " 0.6439999938011169,\n",
              " 0.6600000262260437,\n",
              " 0.6909999847412109,\n",
              " 0.6779999732971191,\n",
              " 0.6650000214576721,\n",
              " 0.6613226532936096,\n",
              " 0.6763526797294617,\n",
              " 0.6593186259269714,\n",
              " 0.6439999938011169,\n",
              " 0.6813627481460571,\n",
              " 0.6589999794960022,\n",
              " 0.6589999794960022,\n",
              " 0.6729999780654907,\n",
              " 0.6510000228881836,\n",
              " 0.6639999747276306,\n",
              " 0.671999990940094,\n",
              " 0.6813627481460571,\n",
              " 0.6790000200271606,\n",
              " 0.6700000166893005,\n",
              " 0.6800000071525574,\n",
              " 0.6790000200271606,\n",
              " 0.6399999856948853,\n",
              " 0.6733466982841492,\n",
              " 0.6660000085830688,\n",
              " 0.6850000023841858,\n",
              " 0.6543086171150208,\n",
              " 0.6740000247955322]"
            ]
          },
          "metadata": {
            "tags": []
          },
          "execution_count": 76
        }
      ]
    },
    {
      "cell_type": "code",
      "metadata": {
        "id": "wPcWdH7Cp0tA",
        "outputId": "29f94553-df43-4326-852a-a3491388af4d",
        "colab": {
          "base_uri": "https://localhost:8080/",
          "height": 281
        }
      },
      "source": [
        "import matplotlib.pyplot as plt\n",
        "acc = history.history['acc']\n",
        "val_acc = history.history['val_acc']\n",
        "epochs = range(1, len(acc) + 1)\n",
        "plt.plot(epochs, acc, 'bo', label='Training acc')\n",
        "plt.plot(epochs, val_acc, 'b', label='Validation acc')\n",
        "plt.title('Training and validation accuracy')\n",
        "plt.legend()\n",
        "plt.show()\n",
        "\n"
      ],
      "execution_count": 77,
      "outputs": [
        {
          "output_type": "display_data",
          "data": {
            "image/png": "[encoded data removed]",
            "text/plain": [
              "<Figure size 432x288 with 1 Axes>"
            ]
          },
          "metadata": {
            "tags": [],
            "needs_background": "light"
          }
        }
      ]
    },
    {
      "cell_type": "code",
      "metadata": {
        "id": "1CGl8a8qdvyC",
        "outputId": "cc4e1b89-e356-4c44-8db4-b144d837bcf8",
        "colab": {
          "base_uri": "https://localhost:8080/",
          "height": 298
        }
      },
      "source": [
        "def smooth_curve(points, factor=0.8):\n",
        "  smoothed_points = []\n",
        "  for point in points:\n",
        "    if smoothed_points:\n",
        "      previous = smoothed_points[-1]\n",
        "      smoothed_points.append(previous * factor + point * (1 -factor))\n",
        "    else:\n",
        "      smoothed_points.append(point)\n",
        "  return smoothed_points\n",
        "plt.plot(epochs,\n",
        " smooth_curve(acc), 'bo', label='Smoothed training acc')\n",
        "plt.plot(epochs,\n",
        " smooth_curve(val_acc), 'b', label='Smoothed validation acc')\n",
        "plt.title('Training and validation accuracy')\n",
        "plt.legend()\n"
      ],
      "execution_count": 78,
      "outputs": [
        {
          "output_type": "execute_result",
          "data": {
            "text/plain": [
              "<matplotlib.legend.Legend at 0x7fcece797f98>"
            ]
          },
          "metadata": {
            "tags": []
          },
          "execution_count": 78
        },
        {
          "output_type": "display_data",
          "data": {
            "image/png": "[encoded data removed]",
            "text/plain": [
              "<Figure size 432x288 with 1 Axes>"
            ]
          },
          "metadata": {
            "tags": [],
            "needs_background": "light"
          }
        }
      ]
    },
    {
      "cell_type": "code",
      "metadata": {
        "id": "gnUZIv1zp1jx",
        "outputId": "fc2dc0ee-fa14-4e71-c852-2bd5118866a3",
        "colab": {
          "base_uri": "https://localhost:8080/",
          "height": 50
        }
      },
      "source": [
        "test_gen= test_datagen.flow_from_directory(test_dir,target_size=(150, 150),batch_size=20,class_mode='categorical')\n",
        "\n",
        "test_loss, test_acc = model.evaluate(test_gen,steps=50)"
      ],
      "execution_count": 79,
      "outputs": [
        {
          "output_type": "stream",
          "text": [
            "Found 2114 images belonging to 6 classes.\n",
            "50/50 [==============================] - 17s 345ms/step - loss: 1.4300 - acc: 0.5240\n"
          ],
          "name": "stdout"
        }
      ]
    },
    {
      "cell_type": "code",
      "metadata": {
        "id": "V0M5_joT9CVz",
        "outputId": "75e7762c-4bf8-41c1-d659-2e007e1d22ee",
        "colab": {
          "base_uri": "https://localhost:8080/",
          "height": 34
        }
      },
      "source": [
        "validation_generator = test_datagen.flow_from_directory(validation_dir,target_size=(150, 150),batch_size=20,class_mode='categorical')"
      ],
      "execution_count": 80,
      "outputs": [
        {
          "output_type": "stream",
          "text": [
            "Found 2112 images belonging to 6 classes.\n"
          ],
          "name": "stdout"
        }
      ]
    },
    {
      "cell_type": "code",
      "metadata": {
        "id": "SLAiwpZZ9S61"
      },
      "source": [
        "val_len=0\n",
        "for i in range(6):\n",
        "  val_len=val_len+int((len(b[i]))*0.75)-int((len(b[i]))/2) \n"
      ],
      "execution_count": 81,
      "outputs": []
    },
    {
      "cell_type": "code",
      "metadata": {
        "id": "nUYLiZKO9jr-",
        "outputId": "8b068489-976d-44fc-94c8-f0b477f14ba6",
        "colab": {
          "base_uri": "https://localhost:8080/",
          "height": 34
        }
      },
      "source": [
        "val_len"
      ],
      "execution_count": 82,
      "outputs": [
        {
          "output_type": "execute_result",
          "data": {
            "text/plain": [
              "2139"
            ]
          },
          "metadata": {
            "tags": []
          },
          "execution_count": 82
        }
      ]
    },
    {
      "cell_type": "code",
      "metadata": {
        "id": "48uS1JVG9laf"
      },
      "source": [
        ""
      ],
      "execution_count": null,
      "outputs": []
    },
    {
      "cell_type": "code",
      "metadata": {
        "id": "DMyeCy58szfb",
        "outputId": "3ead6c14-30ea-4c43-997a-e156b4a9c69b",
        "colab": {
          "base_uri": "https://localhost:8080/",
          "height": 171
        }
      },
      "source": [
        "\n",
        "\n",
        "from sklearn.metrics import confusion_matrix\n",
        "import numpy as np\n",
        "batch_size=20\n",
        "\n",
        "\n",
        "\n",
        "prob=model.predict_generator(validation_generator,val_len//batch_size+1)\n",
        "y_pred=np.argmax(prob,axis=1)\n",
        "y_true=validation_generator.classes\n",
        "\n",
        "c = confusion_matrix(y_true, y_pred)\n",
        "print('confusion matrix')\n",
        "print(c)\n",
        " "
      ],
      "execution_count": 83,
      "outputs": [
        {
          "output_type": "stream",
          "text": [
            "WARNING:tensorflow:Your input ran out of data; interrupting training. Make sure that your dataset or generator can generate at least `steps_per_epoch * epochs` batches (in this case, 107 batches). You may need to use the repeat() function when building your dataset.\n",
            "confusion matrix\n",
            "[[ 46  75  55  54  85  16]\n",
            " [ 75  92  77  77 119  22]\n",
            " [ 49  89  50  55  77  21]\n",
            " [ 56  92  51  43  72  17]\n",
            " [ 63  88  49  55  82  17]\n",
            " [ 45  79  42  50  68   9]]\n"
          ],
          "name": "stdout"
        }
      ]
    }
  ]
}